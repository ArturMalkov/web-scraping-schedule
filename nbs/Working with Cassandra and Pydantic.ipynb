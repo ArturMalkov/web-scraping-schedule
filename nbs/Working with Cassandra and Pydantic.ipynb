{
 "cells": [
  {
   "cell_type": "code",
   "execution_count": 1,
   "id": "d6830f9b",
   "metadata": {},
   "outputs": [
    {
     "name": "stdout",
     "output_type": "stream",
     "text": [
      "C:\\Users\\436\\PycharmProjects\\web-scraping-cassandra\n"
     ]
    }
   ],
   "source": [
    "cd C:\\Users\\436\\PycharmProjects\\web-scraping-cassandra"
   ]
  },
  {
   "cell_type": "code",
   "execution_count": 13,
   "id": "951fe992",
   "metadata": {},
   "outputs": [],
   "source": [
    "import uuid\n",
    "from app import crud, db, models, schema"
   ]
  },
  {
   "cell_type": "code",
   "execution_count": 3,
   "id": "82913a99",
   "metadata": {},
   "outputs": [],
   "source": [
    "session = db.get_session()"
   ]
  },
  {
   "cell_type": "code",
   "execution_count": 4,
   "id": "50d35a9a",
   "metadata": {},
   "outputs": [],
   "source": [
    "from pydantic import BaseModel"
   ]
  },
  {
   "cell_type": "code",
   "execution_count": 5,
   "id": "1e47c5fa",
   "metadata": {},
   "outputs": [],
   "source": [
    "class ProductBaseModel(BaseModel):\n",
    "    asin: str\n",
    "    title: str"
   ]
  },
  {
   "cell_type": "code",
   "execution_count": 6,
   "id": "6a303788",
   "metadata": {},
   "outputs": [],
   "source": [
    "data = {\"asin\": \"TESTING12345\", \"title\": \"Max 2323\"}"
   ]
  },
  {
   "cell_type": "code",
   "execution_count": 7,
   "id": "be519032",
   "metadata": {},
   "outputs": [
    {
     "data": {
      "text/plain": [
       "{'asin': 'TESTING12345', 'title': 'Max 2323'}"
      ]
     },
     "execution_count": 7,
     "metadata": {},
     "output_type": "execute_result"
    }
   ],
   "source": [
    "product = ProductBaseModel(**data)\n",
    "product.dict()"
   ]
  },
  {
   "cell_type": "code",
   "execution_count": 9,
   "id": "ab02410c",
   "metadata": {},
   "outputs": [],
   "source": [
    "from pydantic.error_wrappers import ValidationError"
   ]
  },
  {
   "cell_type": "code",
   "execution_count": 15,
   "id": "1b41e36d",
   "metadata": {},
   "outputs": [],
   "source": [
    "data = dict(data)\n",
    "data[\"uuid\"] = uuid.uuid1()\n",
    "\n",
    "try:\n",
    "    schema.ProductScrapeEventSchema(**data)\n",
    "except ValidationError as e:\n",
    "    print(e.json())"
   ]
  },
  {
   "cell_type": "code",
   "execution_count": null,
   "id": "fbf45b4b",
   "metadata": {},
   "outputs": [],
   "source": []
  }
 ],
 "metadata": {
  "kernelspec": {
   "display_name": "Python 3 (ipykernel)",
   "language": "python",
   "name": "python3"
  },
  "language_info": {
   "codemirror_mode": {
    "name": "ipython",
    "version": 3
   },
   "file_extension": ".py",
   "mimetype": "text/x-python",
   "name": "python",
   "nbconvert_exporter": "python",
   "pygments_lexer": "ipython3",
   "version": "3.10.0"
  }
 },
 "nbformat": 4,
 "nbformat_minor": 5
}
