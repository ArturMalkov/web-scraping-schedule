{
 "cells": [
  {
   "cell_type": "code",
   "execution_count": 1,
   "id": "d6830f9b",
   "metadata": {},
   "outputs": [
    {
     "name": "stdout",
     "output_type": "stream",
     "text": [
      "C:\\Users\\436\\PycharmProjects\\web-scraping-cassandra\n"
     ]
    }
   ],
   "source": [
    "cd C:\\Users\\436\\PycharmProjects\\web-scraping-cassandra"
   ]
  },
  {
   "cell_type": "code",
   "execution_count": 2,
   "id": "951fe992",
   "metadata": {},
   "outputs": [
    {
     "name": "stderr",
     "output_type": "stream",
     "text": [
      "C:\\Users\\436\\PycharmProjects\\web-scraping-cassandra\\venv\\lib\\site-packages\\cassandra\\cqlengine\\management.py:545: UserWarning: CQLENG_ALLOW_SCHEMA_MANAGEMENT environment variable is not set. Future versions of this package will require this variable to enable management functions.\n",
      "  warnings.warn(msg)\n"
     ]
    }
   ],
   "source": [
    "from app import crud, models"
   ]
  },
  {
   "cell_type": "code",
   "execution_count": 3,
   "id": "3eb87d4f",
   "metadata": {},
   "outputs": [],
   "source": [
    "data = {\"asin\": \"TESTING123ABC\", \"title\": \"Mark 1\"}"
   ]
  },
  {
   "cell_type": "code",
   "execution_count": 4,
   "id": "86187423",
   "metadata": {},
   "outputs": [
    {
     "data": {
      "text/plain": [
       "(Product(asin='TESTING123ABC', title='Mark 1', price_str='-1'),\n",
       " ProductScrapeEvent(uuid=UUID('a369e23f-78d3-11ed-8485-b40ede91078e'), asin='TESTING123ABC', title='Mark 1', price_str='-1'))"
      ]
     },
     "execution_count": 4,
     "metadata": {},
     "output_type": "execute_result"
    }
   ],
   "source": [
    "crud.add_scrape_event(data, fresh=True)"
   ]
  },
  {
   "cell_type": "code",
   "execution_count": 5,
   "id": "5ee82b10",
   "metadata": {},
   "outputs": [
    {
     "data": {
      "text/plain": [
       "(Product(asin='TESTING123ABC', title='Mark 1', price_str='-1'),\n",
       " ProductScrapeEvent(uuid=UUID('a385193f-78d3-11ed-92c7-b40ede91078e'), asin='TESTING123ABC', title='Mark 1', price_str='-1'))"
      ]
     },
     "execution_count": 5,
     "metadata": {},
     "output_type": "execute_result"
    }
   ],
   "source": [
    "crud.add_scrape_event(data,)"
   ]
  },
  {
   "cell_type": "code",
   "execution_count": 6,
   "id": "4db21491",
   "metadata": {},
   "outputs": [
    {
     "name": "stdout",
     "output_type": "stream",
     "text": [
      "TESTING123ABC\n",
      "TESTING123\n",
      "YHEG738KHXX725\n"
     ]
    }
   ],
   "source": [
    "for obj in models.Product.objects().all():\n",
    "    print(obj.asin)"
   ]
  },
  {
   "cell_type": "code",
   "execution_count": 7,
   "id": "60397dfe",
   "metadata": {},
   "outputs": [
    {
     "name": "stdout",
     "output_type": "stream",
     "text": [
      "TESTING123ABC // 9a10cd77-78c2-11ed-a98b-b40ede91078e\n",
      "TESTING123ABC // a385193f-78d3-11ed-92c7-b40ede91078e\n",
      "TESTING123ABC // 77d9bdf7-78d3-11ed-af7c-b40ede91078e\n",
      "TESTING123ABC // a369e23f-78d3-11ed-8485-b40ede91078e\n",
      "TESTING123D // 6a135af2-78b8-11ed-8488-b40ede91078e\n",
      "TESTING123ABC // 5188d181-78c3-11ed-89d9-b40ede91078e\n",
      "TESTING123D // 56060e8f-78b8-11ed-9a65-b40ede91078e\n",
      "TESTING123ABC // 51a4adc7-78c3-11ed-8f33-b40ede91078e\n",
      "TESTING123ABC // 844b82ec-78c0-11ed-80b9-b40ede91078e\n",
      "TESTING123D // 68bafe2d-78b8-11ed-bec3-b40ede91078e\n",
      "TESTING123ABC // 8373c1c3-78d3-11ed-8d28-b40ede91078e\n",
      "TESTING123D // 696f0dd3-78b8-11ed-91c3-b40ede91078e\n",
      "TESTING123ABC // 83562bef-78d3-11ed-86f9-b40ede91078e\n",
      "TESTING123D // 6b349ad2-78b8-11ed-bcaf-b40ede91078e\n",
      "TESTING123ABC // 77f9f5e3-78d3-11ed-b6a2-b40ede91078e\n"
     ]
    }
   ],
   "source": [
    "for obj in models.ProductScrapeEvent.objects.all():\n",
    "    print(obj.asin, \"//\", obj.uuid)"
   ]
  },
  {
   "cell_type": "code",
   "execution_count": 8,
   "id": "6acd15d5",
   "metadata": {},
   "outputs": [],
   "source": [
    "asin = \"TESTING123ABC\""
   ]
  },
  {
   "cell_type": "code",
   "execution_count": 9,
   "id": "be0ce2f2",
   "metadata": {},
   "outputs": [
    {
     "name": "stdout",
     "output_type": "stream",
     "text": [
      "9a10cd77-78c2-11ed-a98b-b40ede91078e\n",
      "a385193f-78d3-11ed-92c7-b40ede91078e\n",
      "77d9bdf7-78d3-11ed-af7c-b40ede91078e\n",
      "a369e23f-78d3-11ed-8485-b40ede91078e\n",
      "5188d181-78c3-11ed-89d9-b40ede91078e\n",
      "51a4adc7-78c3-11ed-8f33-b40ede91078e\n",
      "844b82ec-78c0-11ed-80b9-b40ede91078e\n",
      "8373c1c3-78d3-11ed-8d28-b40ede91078e\n",
      "83562bef-78d3-11ed-86f9-b40ede91078e\n",
      "77f9f5e3-78d3-11ed-b6a2-b40ede91078e\n"
     ]
    }
   ],
   "source": [
    "for obj in models.ProductScrapeEvent.objects().filter(asin=asin):\n",
    "    print(obj.uuid)"
   ]
  },
  {
   "cell_type": "code",
   "execution_count": 10,
   "id": "1386595d",
   "metadata": {},
   "outputs": [
    {
     "name": "stdout",
     "output_type": "stream",
     "text": [
      "0 9a10cd77-78c2-11ed-a98b-b40ede91078e\n",
      "1 a385193f-78d3-11ed-92c7-b40ede91078e\n",
      "2 77d9bdf7-78d3-11ed-af7c-b40ede91078e\n",
      "3 a369e23f-78d3-11ed-8485-b40ede91078e\n",
      "4 6a135af2-78b8-11ed-8488-b40ede91078e\n",
      "5 5188d181-78c3-11ed-89d9-b40ede91078e\n",
      "6 56060e8f-78b8-11ed-9a65-b40ede91078e\n",
      "7 51a4adc7-78c3-11ed-8f33-b40ede91078e\n",
      "8 844b82ec-78c0-11ed-80b9-b40ede91078e\n",
      "9 68bafe2d-78b8-11ed-bec3-b40ede91078e\n",
      "10 8373c1c3-78d3-11ed-8d28-b40ede91078e\n",
      "11 696f0dd3-78b8-11ed-91c3-b40ede91078e\n",
      "12 83562bef-78d3-11ed-86f9-b40ede91078e\n",
      "13 6b349ad2-78b8-11ed-bcaf-b40ede91078e\n",
      "14 77f9f5e3-78d3-11ed-b6a2-b40ede91078e\n"
     ]
    }
   ],
   "source": [
    "for idx, obj in enumerate(models.ProductScrapeEvent.objects.all()):\n",
    "    print(idx, obj.uuid)"
   ]
  },
  {
   "cell_type": "code",
   "execution_count": 11,
   "id": "f98d80a5",
   "metadata": {},
   "outputs": [
    {
     "name": "stdout",
     "output_type": "stream",
     "text": [
      "SELECT * FROM scraper_app.product_scrape_event LIMIT 10000\n"
     ]
    }
   ],
   "source": [
    "print(models.ProductScrapeEvent.objects.all())"
   ]
  },
  {
   "cell_type": "code",
   "execution_count": 12,
   "id": "2822e525",
   "metadata": {},
   "outputs": [
    {
     "name": "stdout",
     "output_type": "stream",
     "text": [
      "{'uuid': UUID('9a10cd77-78c2-11ed-a98b-b40ede91078e'), 'asin': 'TESTING123ABC', 'price_str': '-1', 'title': 'Mark 1'}\n",
      "{'uuid': UUID('a385193f-78d3-11ed-92c7-b40ede91078e'), 'asin': 'TESTING123ABC', 'price_str': '-1', 'title': 'Mark 1'}\n",
      "{'uuid': UUID('77d9bdf7-78d3-11ed-af7c-b40ede91078e'), 'asin': 'TESTING123ABC', 'price_str': '-1', 'title': 'Mark 1'}\n",
      "{'uuid': UUID('a369e23f-78d3-11ed-8485-b40ede91078e'), 'asin': 'TESTING123ABC', 'price_str': '-1', 'title': 'Mark 1'}\n",
      "{'uuid': UUID('6a135af2-78b8-11ed-8488-b40ede91078e'), 'asin': 'TESTING123D', 'price_str': '-1', 'title': 'Mark 1 efk4f'}\n",
      "{'uuid': UUID('5188d181-78c3-11ed-89d9-b40ede91078e'), 'asin': 'TESTING123ABC', 'price_str': '-1', 'title': 'Mark 1'}\n",
      "{'uuid': UUID('56060e8f-78b8-11ed-9a65-b40ede91078e'), 'asin': 'TESTING123D', 'price_str': '-1', 'title': 'Mark 1 efk4f'}\n",
      "{'uuid': UUID('51a4adc7-78c3-11ed-8f33-b40ede91078e'), 'asin': 'TESTING123ABC', 'price_str': '-1', 'title': 'Mark 1'}\n",
      "{'uuid': UUID('844b82ec-78c0-11ed-80b9-b40ede91078e'), 'asin': 'TESTING123ABC', 'price_str': '-1', 'title': 'Mark 1'}\n",
      "{'uuid': UUID('68bafe2d-78b8-11ed-bec3-b40ede91078e'), 'asin': 'TESTING123D', 'price_str': '-1', 'title': 'Mark 1 efk4f'}\n",
      "{'uuid': UUID('8373c1c3-78d3-11ed-8d28-b40ede91078e'), 'asin': 'TESTING123ABC', 'price_str': '-1', 'title': 'Mark 1'}\n",
      "{'uuid': UUID('696f0dd3-78b8-11ed-91c3-b40ede91078e'), 'asin': 'TESTING123D', 'price_str': '-1', 'title': 'Mark 1 efk4f'}\n",
      "{'uuid': UUID('83562bef-78d3-11ed-86f9-b40ede91078e'), 'asin': 'TESTING123ABC', 'price_str': '-1', 'title': 'Mark 1'}\n",
      "{'uuid': UUID('6b349ad2-78b8-11ed-bcaf-b40ede91078e'), 'asin': 'TESTING123D', 'price_str': '-1', 'title': 'Mark 1 efk4f'}\n",
      "{'uuid': UUID('77f9f5e3-78d3-11ed-b6a2-b40ede91078e'), 'asin': 'TESTING123ABC', 'price_str': '-1', 'title': 'Mark 1'}\n"
     ]
    }
   ],
   "source": [
    "session = crud.session\n",
    "for row in session.execute(\"SELECT * FROM scraper_app.product_scrape_event LIMIT 10000\"):\n",
    "    print(row)"
   ]
  },
  {
   "cell_type": "code",
   "execution_count": null,
   "id": "50d35a9a",
   "metadata": {},
   "outputs": [],
   "source": []
  }
 ],
 "metadata": {
  "kernelspec": {
   "display_name": "Python 3 (ipykernel)",
   "language": "python",
   "name": "python3"
  },
  "language_info": {
   "codemirror_mode": {
    "name": "ipython",
    "version": 3
   },
   "file_extension": ".py",
   "mimetype": "text/x-python",
   "name": "python",
   "nbconvert_exporter": "python",
   "pygments_lexer": "ipython3",
   "version": "3.10.0"
  }
 },
 "nbformat": 4,
 "nbformat_minor": 5
}
