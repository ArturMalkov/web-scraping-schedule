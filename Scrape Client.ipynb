{
 "cells": [
  {
   "cell_type": "code",
   "execution_count": 1,
   "id": "240cd186",
   "metadata": {},
   "outputs": [
    {
     "name": "stdout",
     "output_type": "stream",
     "text": [
      "C:\\Users\\436\\PycharmProjects\\web-scraping-cassandra\n"
     ]
    }
   ],
   "source": [
    "cd C:\\Users\\436\\PycharmProjects\\web-scraping-cassandra"
   ]
  },
  {
   "cell_type": "code",
   "execution_count": 2,
   "id": "84b70659",
   "metadata": {},
   "outputs": [],
   "source": [
    "from app import scraper\n",
    "from slugify import slugify\n",
    "import pprint"
   ]
  },
  {
   "cell_type": "code",
   "execution_count": 3,
   "id": "8ecb4b97",
   "metadata": {},
   "outputs": [],
   "source": [
    "url = \"https://www.amazon.com/Vitamix-E310-Explorian-Professional-Grade-Container/dp/B07CVRZ1YJ/ref=sr_1_2_sspa?crid=1JETJ8W80ZUT6&keywords=vitamix+e310&qid=1670859610&sprefix=vitamix+e310%2Caps%2C233&sr=8-2-spons&psc=1&spLa=ZW5jcnlwdGVkUXVhbGlmaWVyPUEyMTE1UjRaQ1ZQODk4JmVuY3J5cHRlZElkPUEwMjkzNjEzQ09ZU1ZUTE1UU1M3JmVuY3J5cHRlZEFkSWQ9QTAxOTU4MzYxVTlDMEtZQVUxR0xDJndpZGdldE5hbWU9c3BfYXRmJmFjdGlvbj1jbGlja1JlZGlyZWN0JmRvTm90TG9nQ2xpY2s9dHJ1ZQ==\""
   ]
  },
  {
   "cell_type": "code",
   "execution_count": 4,
   "id": "fec92761",
   "metadata": {},
   "outputs": [],
   "source": [
    "scraper = scraper.Scraper(url=url, endless_scroll=True)"
   ]
  },
  {
   "cell_type": "code",
   "execution_count": 5,
   "id": "556cfc25",
   "metadata": {},
   "outputs": [],
   "source": [
    "dataset = scraper.scrape()"
   ]
  },
  {
   "cell_type": "code",
   "execution_count": 6,
   "id": "9900424a",
   "metadata": {},
   "outputs": [
    {
     "data": {
      "text/plain": [
       "{'price_str': '$289.95$289.95',\n",
       " 'title_str': 'Vitamix E310 Explorian Blender, Professional-Grade, 48 oz. Container, Slate',\n",
       " 'asin': 'B07CVRZ1YJ'}"
      ]
     },
     "execution_count": 6,
     "metadata": {},
     "output_type": "execute_result"
    }
   ],
   "source": [
    "dataset"
   ]
  },
  {
   "cell_type": "code",
   "execution_count": null,
   "id": "65c58c4d",
   "metadata": {},
   "outputs": [],
   "source": []
  }
 ],
 "metadata": {
  "kernelspec": {
   "display_name": "Python 3 (ipykernel)",
   "language": "python",
   "name": "python3"
  },
  "language_info": {
   "codemirror_mode": {
    "name": "ipython",
    "version": 3
   },
   "file_extension": ".py",
   "mimetype": "text/x-python",
   "name": "python",
   "nbconvert_exporter": "python",
   "pygments_lexer": "ipython3",
   "version": "3.10.0"
  }
 },
 "nbformat": 4,
 "nbformat_minor": 5
}
