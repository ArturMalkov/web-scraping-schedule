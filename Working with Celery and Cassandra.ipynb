{
 "cells": [
  {
   "cell_type": "code",
   "execution_count": 1,
   "id": "2bade25e",
   "metadata": {},
   "outputs": [
    {
     "name": "stdout",
     "output_type": "stream",
     "text": [
      "C:\\Users\\436\\PycharmProjects\\web-scraping-cassandra\n"
     ]
    }
   ],
   "source": [
    "cd C:\\Users\\436\\PycharmProjects\\web-scraping-cassandra"
   ]
  },
  {
   "cell_type": "code",
   "execution_count": 1,
   "id": "ebd4a272",
   "metadata": {},
   "outputs": [],
   "source": [
    "from app.worker import random_task, get_all_products"
   ]
  },
  {
   "cell_type": "code",
   "execution_count": null,
   "id": "0062fd42",
   "metadata": {},
   "outputs": [],
   "source": [
    "get_all_products()"
   ]
  },
  {
   "cell_type": "code",
   "execution_count": null,
   "id": "27d9bee5",
   "metadata": {},
   "outputs": [],
   "source": [
    "get_all_products.delay()"
   ]
  },
  {
   "cell_type": "code",
   "execution_count": 4,
   "id": "fa903b08",
   "metadata": {},
   "outputs": [
    {
     "name": "stdout",
     "output_type": "stream",
     "text": [
      "Hello, Justin\n"
     ]
    }
   ],
   "source": [
    "random_task(\"Justin\")"
   ]
  },
  {
   "cell_type": "code",
   "execution_count": 5,
   "id": "b6a36761",
   "metadata": {},
   "outputs": [
    {
     "data": {
      "text/plain": [
       "<AsyncResult: 966ad7bf-0326-46f4-bb6e-e63143fd1338>"
      ]
     },
     "execution_count": 5,
     "metadata": {},
     "output_type": "execute_result"
    }
   ],
   "source": [
    "random_task.delay(\"Justin\")"
   ]
  },
  {
   "cell_type": "code",
   "execution_count": 6,
   "id": "4bf6a9fd",
   "metadata": {},
   "outputs": [
    {
     "data": {
      "text/plain": [
       "<AsyncResult: b181464f-82b4-46a2-a2b4-0d8378aa93f0>"
      ]
     },
     "execution_count": 6,
     "metadata": {},
     "output_type": "execute_result"
    }
   ],
   "source": [
    "random_task.delay(\"Colin\")"
   ]
  },
  {
   "cell_type": "code",
   "execution_count": 7,
   "id": "d2eb209b",
   "metadata": {},
   "outputs": [],
   "source": [
    "for i in range(10):\n",
    "    random_task.delay(\"Justin\")"
   ]
  },
  {
   "cell_type": "code",
   "execution_count": 8,
   "id": "c0c60ca3",
   "metadata": {},
   "outputs": [],
   "source": [
    "for i in range(10):\n",
    "    random_task.delay(f\"Justin - {i}\")"
   ]
  },
  {
   "cell_type": "code",
   "execution_count": 9,
   "id": "b13fc7fa",
   "metadata": {},
   "outputs": [],
   "source": [
    "for i in range(10):\n",
    "    random_task.apply_async(args=(f\"Justin - {i}\",), countdown=10)  # will wait 10 secs to execute"
   ]
  },
  {
   "cell_type": "code",
   "execution_count": null,
   "id": "4d3ab0c8",
   "metadata": {},
   "outputs": [],
   "source": []
  }
 ],
 "metadata": {
  "kernelspec": {
   "display_name": "Python 3 (ipykernel)",
   "language": "python",
   "name": "python3"
  },
  "language_info": {
   "codemirror_mode": {
    "name": "ipython",
    "version": 3
   },
   "file_extension": ".py",
   "mimetype": "text/x-python",
   "name": "python",
   "nbconvert_exporter": "python",
   "pygments_lexer": "ipython3",
   "version": "3.10.0"
  }
 },
 "nbformat": 4,
 "nbformat_minor": 5
}
