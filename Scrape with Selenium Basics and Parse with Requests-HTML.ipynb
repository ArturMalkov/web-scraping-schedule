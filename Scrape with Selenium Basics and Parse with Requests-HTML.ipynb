{
 "cells": [
  {
   "cell_type": "code",
   "execution_count": 1,
   "id": "240cd186",
   "metadata": {},
   "outputs": [
    {
     "name": "stdout",
     "output_type": "stream",
     "text": [
      "C:\\Users\\436\\PycharmProjects\\web-scraping-cassandra\n"
     ]
    }
   ],
   "source": [
    "cd C:\\Users\\436\\PycharmProjects\\web-scraping-cassandra"
   ]
  },
  {
   "cell_type": "code",
   "execution_count": 72,
   "id": "84b70659",
   "metadata": {},
   "outputs": [],
   "source": [
    "from app import scraper\n",
    "from slugify import slugify\n",
    "import pprint"
   ]
  },
  {
   "cell_type": "code",
   "execution_count": 3,
   "id": "20a19cfb",
   "metadata": {},
   "outputs": [],
   "source": [
    "url = \"https://www.amazon.com/Vitamix-E310-Explorian-Professional-Grade-Container/dp/B07CVRZ1YJ/ref=sr_1_2_sspa?crid=1JETJ8W80ZUT6&keywords=vitamix+e310&qid=1670859610&sprefix=vitamix+e310%2Caps%2C233&sr=8-2-spons&psc=1&spLa=ZW5jcnlwdGVkUXVhbGlmaWVyPUEyMTE1UjRaQ1ZQODk4JmVuY3J5cHRlZElkPUEwMjkzNjEzQ09ZU1ZUTE1UU1M3JmVuY3J5cHRlZEFkSWQ9QTAxOTU4MzYxVTlDMEtZQVUxR0xDJndpZGdldE5hbWU9c3BfYXRmJmFjdGlvbj1jbGlja1JlZGlyZWN0JmRvTm90TG9nQ2xpY2s9dHJ1ZQ==\""
   ]
  },
  {
   "cell_type": "code",
   "execution_count": 4,
   "id": "2ad170c7",
   "metadata": {},
   "outputs": [],
   "source": [
    "driver = scraper.Scraper(url=url, endless_scroll=True)"
   ]
  },
  {
   "cell_type": "code",
   "execution_count": 5,
   "id": "abda6fa9",
   "metadata": {},
   "outputs": [
    {
     "data": {
      "text/plain": [
       "Scraper(url='https://www.amazon.com/Vitamix-E310-Explorian-Professional-Grade-Container/dp/B07CVRZ1YJ/ref=sr_1_2_sspa?crid=1JETJ8W80ZUT6&keywords=vitamix+e310&qid=1670859610&sprefix=vitamix+e310%2Caps%2C233&sr=8-2-spons&psc=1&spLa=ZW5jcnlwdGVkUXVhbGlmaWVyPUEyMTE1UjRaQ1ZQODk4JmVuY3J5cHRlZElkPUEwMjkzNjEzQ09ZU1ZUTE1UU1M3JmVuY3J5cHRlZEFkSWQ9QTAxOTU4MzYxVTlDMEtZQVUxR0xDJndpZGdldE5hbWU9c3BfYXRmJmFjdGlvbj1jbGlja1JlZGlyZWN0JmRvTm90TG9nQ2xpY2s9dHJ1ZQ==', endless_scroll=True, endless_scroll_time=5, driver=None)"
      ]
     },
     "execution_count": 5,
     "metadata": {},
     "output_type": "execute_result"
    }
   ],
   "source": [
    "driver"
   ]
  },
  {
   "cell_type": "code",
   "execution_count": 6,
   "id": "ea9cb4a8",
   "metadata": {},
   "outputs": [],
   "source": [
    "url = \"https://www.amazon.com/Vitamix-E310-Explorian-Professional-Grade-Container/dp/B07CVRZ1YJ/ref=sr_1_2_sspa?crid=1JETJ8W80ZUT6&keywords=vitamix+e310&qid=1670859610&sprefix=vitamix+e310%2Caps%2C233&sr=8-2-spons&psc=1&spLa=ZW5jcnlwdGVkUXVhbGlmaWVyPUEyMTE1UjRaQ1ZQODk4JmVuY3J5cHRlZElkPUEwMjkzNjEzQ09ZU1ZUTE1UU1M3JmVuY3J5cHRlZEFkSWQ9QTAxOTU4MzYxVTlDMEtZQVUxR0xDJndpZGdldE5hbWU9c3BfYXRmJmFjdGlvbj1jbGlja1JlZGlyZWN0JmRvTm90TG9nQ2xpY2s9dHJ1ZQ==\""
   ]
  },
  {
   "cell_type": "code",
   "execution_count": 12,
   "id": "3b38f90f",
   "metadata": {},
   "outputs": [],
   "source": [
    "html_str = driver.get()"
   ]
  },
  {
   "cell_type": "code",
   "execution_count": 9,
   "id": "870e2e71",
   "metadata": {},
   "outputs": [],
   "source": [
    "from requests_html import HTML"
   ]
  },
  {
   "cell_type": "code",
   "execution_count": 13,
   "id": "013c6aa7",
   "metadata": {},
   "outputs": [],
   "source": [
    "html_obj = HTML(html=html_str)"
   ]
  },
  {
   "cell_type": "code",
   "execution_count": 14,
   "id": "9bf1a3d7",
   "metadata": {},
   "outputs": [
    {
     "data": {
      "text/plain": [
       "<HTML url='https://example.org/'>"
      ]
     },
     "execution_count": 14,
     "metadata": {},
     "output_type": "execute_result"
    }
   ],
   "source": [
    "html_obj"
   ]
  },
  {
   "cell_type": "code",
   "execution_count": 37,
   "id": "3936ec9b",
   "metadata": {},
   "outputs": [
    {
     "data": {
      "text/plain": [
       "'$289.95$289.95'"
      ]
     },
     "execution_count": 37,
     "metadata": {},
     "output_type": "execute_result"
    }
   ],
   "source": [
    "price_str = html_obj.find(\".a-price\", first=True).text\n",
    "price_str"
   ]
  },
  {
   "cell_type": "code",
   "execution_count": 36,
   "id": "62d1a9a5",
   "metadata": {},
   "outputs": [
    {
     "data": {
      "text/plain": [
       "'Vitamix E310 Explorian Blender, Professional-Grade, 48 oz. Container, Slate'"
      ]
     },
     "execution_count": 36,
     "metadata": {},
     "output_type": "execute_result"
    }
   ],
   "source": [
    "title_str = html_obj.find(\"#productTitle\", first=True).text\n",
    "title_str"
   ]
  },
  {
   "cell_type": "code",
   "execution_count": 42,
   "id": "efc3f0e6",
   "metadata": {},
   "outputs": [
    {
     "data": {
      "text/plain": [
       "'Vitamix'"
      ]
     },
     "execution_count": 42,
     "metadata": {},
     "output_type": "execute_result"
    }
   ],
   "source": [
    "asin = html_obj.find(\".prodDetAttrValue\", first=True).text\n",
    "asin"
   ]
  },
  {
   "cell_type": "code",
   "execution_count": 47,
   "id": "ec6bbf18",
   "metadata": {},
   "outputs": [
    {
     "data": {
      "text/plain": [
       "[<Element 'table' class=('a-lineitem',)>,\n",
       " <Element 'table' class=('a-normal', 'a-spacing-none', 'reInventPriceTable')>,\n",
       " <Element 'table' class=('a-lineitem',)>,\n",
       " <Element 'table' class=('a-normal', 'a-spacing-micro')>,\n",
       " <Element 'table' class=('apm-fixed-width', 'apm-fourthcol-table')>,\n",
       " <Element 'table' class=('apm-fixed-width', 'apm-eventhirdcol-table')>,\n",
       " <Element 'table' class=('apm-fixed-width', 'apm-eventhirdcol-table')>,\n",
       " <Element 'table' id='HLCXComparisonTable' class=('a-bordered', 'a-horizontal-stripes', 'a-spacing-none', 'a-size-base', 'comparison_table')>,\n",
       " <Element 'table' id='productDetails_detailBullets_sections1' class=('a-keyvalue', 'prodDetTable') role='presentation'>,\n",
       " <Element 'table' id='productDetails_feedback_sections' class=('a-keyvalue', 'prodDetTable') role='presentation'>,\n",
       " <Element 'table' id='histogramTable' class=('a-normal', 'a-spacing-none') role='presentation'>,\n",
       " <Element 'table' id='histogramTable' class=('a-normal', 'a-align-center', 'a-spacing-base')>,\n",
       " <Element 'table' class=('navFooterMoreOnAmazon',) cellspacing='0'>]"
      ]
     },
     "execution_count": 47,
     "metadata": {},
     "output_type": "execute_result"
    }
   ],
   "source": [
    "tables = html_obj.find(\"table\")\n",
    "tables"
   ]
  },
  {
   "cell_type": "code",
   "execution_count": 73,
   "id": "18bf353e",
   "metadata": {},
   "outputs": [
    {
     "name": "stdout",
     "output_type": "stream",
     "text": [
      "{'asin': 'B07CVRZ1YJ',\n",
      " 'best-sellers-rank': '#1,970 in Kitchen & Dining (See Top 100 in Kitchen & '\n",
      "                      'Dining)  #2 in Blender Replacement Parts  #12 in '\n",
      "                      'Countertop Blenders  #20 in Cocktail Drinkware',\n",
      " 'blade-material': 'Stainless Steel',\n",
      " 'brand': 'Vitamix',\n",
      " 'capacity': '48 Fluid Ounces',\n",
      " 'color': 'Slate',\n",
      " 'country-of-origin': 'USA',\n",
      " 'customer-reviews': '/* \\n'\n",
      "                     '    * Fix for UDP-1061. Average customer reviews has a '\n",
      "                     'small extra line on hover \\n'\n",
      "                     '    * '\n",
      "                     'https://omni-grok.amazon.com/xref/src/appgroup/websiteTemplates/retail/SoftlinesDetailPageAssets/udp-intl-lock/src/legacy.css?indexName=WebsiteTemplates#40\\n'\n",
      "                     '    */\\n'\n",
      "                     '    .noUnderline a:hover { \\n'\n",
      "                     '        text-decoration: none; \\n'\n",
      "                     '    }\\n'\n",
      "                     '\\n'\n",
      "                     '\\n'\n",
      "                     ' \\n'\n",
      "                     '  4.7 out of 5 stars    \\n'\n",
      "                     '    6,264 ratings   \\n'\n",
      "                     \"                    P.when('A', \"\n",
      "                     \"'ready').execute(function(A) {\\n\"\n",
      "                     '                        '\n",
      "                     \"A.declarative('acrLink-click-metrics', 'click', { \"\n",
      "                     '\"allowLinkDefault\" : true }, function(event){\\n'\n",
      "                     '                            if(window.ue) {\\n'\n",
      "                     '                                '\n",
      "                     'ue.count(\"acrLinkClickCount\", '\n",
      "                     '(ue.count(\"acrLinkClickCount\") || 0) + 1);\\n'\n",
      "                     '                            }\\n'\n",
      "                     '                        });\\n'\n",
      "                     '                    });\\n'\n",
      "                     '                \\n'\n",
      "                     '\\n'\n",
      "                     \"            P.when('A', 'cf').execute(function(A) {\\n\"\n",
      "                     '                '\n",
      "                     \"A.declarative('acrStarsLink-click-metrics', 'click', { \"\n",
      "                     '\"allowLinkDefault\" : true },  function(event){\\n'\n",
      "                     '                    if(window.ue) {\\n'\n",
      "                     '                        '\n",
      "                     'ue.count(\"acrStarsLinkWithPopoverClickCount\", '\n",
      "                     '(ue.count(\"acrStarsLinkWithPopoverClickCount\") || 0) + '\n",
      "                     '1);\\n'\n",
      "                     '                    }\\n'\n",
      "                     '                });\\n'\n",
      "                     '            });\\n'\n",
      "                     '        \\n'\n",
      "                     '\\n'\n",
      "                     ' 4.7 out of 5 stars',\n",
      " 'date-first-available': 'July 2, 2018',\n",
      " 'included-components': \"Container^ Lid^ Tamper^ Motor Base^ Owner's Manual^ \"\n",
      "                        'Introduction Booklet',\n",
      " 'is-discontinued-by-manufacturer': 'No',\n",
      " 'is-dishwasher-safe': 'Yes',\n",
      " 'item-model-number': 'E310',\n",
      " 'item-weight': '10.5 Pounds',\n",
      " 'manufacturer': 'Vitamix',\n",
      " 'material': 'Tritan',\n",
      " 'material-type-free': 'BPA Free',\n",
      " 'number-of-speeds': '10',\n",
      " 'product-dimensions': '8\"D x 11\"W x 17\"H',\n",
      " 'recommended-uses-for-product': 'Household',\n",
      " 'special-feature': 'Manual',\n",
      " 'style': 'Blender',\n",
      " 'total': '$419.08',\n",
      " 'voltage': '120 Volts',\n",
      " 'wattage': '1380 watts'}\n"
     ]
    }
   ],
   "source": [
    "dataset = {}\n",
    "\n",
    "for table in tables:\n",
    "    for tbody in table.element.getchildren():\n",
    "        for tr in tbody.getchildren():\n",
    "            row = []\n",
    "            for col in tr.getchildren():\n",
    "                content = \"\"\n",
    "                try:\n",
    "                    content = col.text_content()\n",
    "                except:\n",
    "                    pass\n",
    "                if content != \"\":\n",
    "                    _content = content.strip()\n",
    "                    row.append(_content)\n",
    "            if len(row) != 2:\n",
    "                continue\n",
    "            \n",
    "            key, value = row[0], row[1]\n",
    "            data = {}\n",
    "            key = slugify(key)\n",
    "            if key in dataset:\n",
    "                continue\n",
    "            else:\n",
    "                dataset[key] = value\n",
    "\n",
    "pprint.pprint(dataset)"
   ]
  },
  {
   "cell_type": "code",
   "execution_count": 99,
   "id": "006c1d7d",
   "metadata": {},
   "outputs": [],
   "source": [
    "def extract_dataset(tables):\n",
    "    dataset = {}\n",
    "\n",
    "    for table in tables:\n",
    "        for tbody in table.element.getchildren():\n",
    "            for tr in tbody.getchildren():\n",
    "                row = []\n",
    "                for col in tr.getchildren():\n",
    "                    content = \"\"\n",
    "                    try:\n",
    "                        content = col.text_content()\n",
    "                    except:\n",
    "                        pass\n",
    "                    if content != \"\":\n",
    "                        _content = content.strip()\n",
    "                        row.append(_content)\n",
    "                if len(row) != 2:\n",
    "                    continue\n",
    "                \n",
    "                key, value = row[0], row[1]\n",
    "                \n",
    "                data = {}\n",
    "                key = slugify(key)\n",
    "                if key in dataset:\n",
    "                    continue\n",
    "                else:\n",
    "                    if \"$\" in value:\n",
    "                        new_key = key\n",
    "                        old_key = f\"{key}_raw\"\n",
    "                        new_value = value\n",
    "                        old_value = value\n",
    "                        dataset[new_key] = new_value\n",
    "                        dataset[old_key] = old_value\n",
    "                    else:\n",
    "                        dataset[key] = value\n",
    "    \n",
    "    return dataset"
   ]
  },
  {
   "cell_type": "code",
   "execution_count": 100,
   "id": "c025d995",
   "metadata": {},
   "outputs": [
    {
     "name": "stdout",
     "output_type": "stream",
     "text": [
      "{'asin': 'B07CVRZ1YJ',\n",
      " 'best-sellers-rank': '#1,970 in Kitchen & Dining (See Top 100 in Kitchen & '\n",
      "                      'Dining)  #2 in Blender Replacement Parts  #12 in '\n",
      "                      'Countertop Blenders  #20 in Cocktail Drinkware',\n",
      " 'blade-material': 'Stainless Steel',\n",
      " 'brand': 'Vitamix',\n",
      " 'capacity': '48 Fluid Ounces',\n",
      " 'color': 'Slate',\n",
      " 'country-of-origin': 'USA',\n",
      " 'customer-reviews': '/* \\n'\n",
      "                     '    * Fix for UDP-1061. Average customer reviews has a '\n",
      "                     'small extra line on hover \\n'\n",
      "                     '    * '\n",
      "                     'https://omni-grok.amazon.com/xref/src/appgroup/websiteTemplates/retail/SoftlinesDetailPageAssets/udp-intl-lock/src/legacy.css?indexName=WebsiteTemplates#40\\n'\n",
      "                     '    */\\n'\n",
      "                     '    .noUnderline a:hover { \\n'\n",
      "                     '        text-decoration: none; \\n'\n",
      "                     '    }\\n'\n",
      "                     '\\n'\n",
      "                     '\\n'\n",
      "                     ' \\n'\n",
      "                     '  4.7 out of 5 stars    \\n'\n",
      "                     '    6,264 ratings   \\n'\n",
      "                     \"                    P.when('A', \"\n",
      "                     \"'ready').execute(function(A) {\\n\"\n",
      "                     '                        '\n",
      "                     \"A.declarative('acrLink-click-metrics', 'click', { \"\n",
      "                     '\"allowLinkDefault\" : true }, function(event){\\n'\n",
      "                     '                            if(window.ue) {\\n'\n",
      "                     '                                '\n",
      "                     'ue.count(\"acrLinkClickCount\", '\n",
      "                     '(ue.count(\"acrLinkClickCount\") || 0) + 1);\\n'\n",
      "                     '                            }\\n'\n",
      "                     '                        });\\n'\n",
      "                     '                    });\\n'\n",
      "                     '                \\n'\n",
      "                     '\\n'\n",
      "                     \"            P.when('A', 'cf').execute(function(A) {\\n\"\n",
      "                     '                '\n",
      "                     \"A.declarative('acrStarsLink-click-metrics', 'click', { \"\n",
      "                     '\"allowLinkDefault\" : true },  function(event){\\n'\n",
      "                     '                    if(window.ue) {\\n'\n",
      "                     '                        '\n",
      "                     'ue.count(\"acrStarsLinkWithPopoverClickCount\", '\n",
      "                     '(ue.count(\"acrStarsLinkWithPopoverClickCount\") || 0) + '\n",
      "                     '1);\\n'\n",
      "                     '                    }\\n'\n",
      "                     '                });\\n'\n",
      "                     '            });\\n'\n",
      "                     '        \\n'\n",
      "                     '\\n'\n",
      "                     ' 4.7 out of 5 stars',\n",
      " 'date-first-available': 'July 2, 2018',\n",
      " 'included-components': \"Container^ Lid^ Tamper^ Motor Base^ Owner's Manual^ \"\n",
      "                        'Introduction Booklet',\n",
      " 'is-discontinued-by-manufacturer': 'No',\n",
      " 'is-dishwasher-safe': 'Yes',\n",
      " 'item-model-number': 'E310',\n",
      " 'item-weight': '10.5 Pounds',\n",
      " 'manufacturer': 'Vitamix',\n",
      " 'material': 'Tritan',\n",
      " 'material-type-free': 'BPA Free',\n",
      " 'number-of-speeds': '10',\n",
      " 'product-dimensions': '8\"D x 11\"W x 17\"H',\n",
      " 'recommended-uses-for-product': 'Household',\n",
      " 'special-feature': 'Manual',\n",
      " 'style': 'Blender',\n",
      " 'total': '$419.08',\n",
      " 'total_raw': '$419.08',\n",
      " 'voltage': '120 Volts',\n",
      " 'wattage': '1380 watts'}\n"
     ]
    }
   ],
   "source": [
    "dataset = extract_dataset(tables)\n",
    "pprint.pprint(dataset)"
   ]
  },
  {
   "cell_type": "code",
   "execution_count": 81,
   "id": "891c6ea0",
   "metadata": {},
   "outputs": [],
   "source": [
    "def extract_tables(html_object):\n",
    "    return html_object.find(\"table\")"
   ]
  },
  {
   "cell_type": "code",
   "execution_count": 82,
   "id": "2dd51482",
   "metadata": {},
   "outputs": [
    {
     "data": {
      "text/plain": [
       "[<Element 'table' class=('a-lineitem',)>,\n",
       " <Element 'table' class=('a-normal', 'a-spacing-none', 'reInventPriceTable')>,\n",
       " <Element 'table' class=('a-lineitem',)>,\n",
       " <Element 'table' class=('a-normal', 'a-spacing-micro')>,\n",
       " <Element 'table' class=('apm-fixed-width', 'apm-fourthcol-table')>,\n",
       " <Element 'table' class=('apm-fixed-width', 'apm-eventhirdcol-table')>,\n",
       " <Element 'table' class=('apm-fixed-width', 'apm-eventhirdcol-table')>,\n",
       " <Element 'table' id='HLCXComparisonTable' class=('a-bordered', 'a-horizontal-stripes', 'a-spacing-none', 'a-size-base', 'comparison_table')>,\n",
       " <Element 'table' id='productDetails_detailBullets_sections1' class=('a-keyvalue', 'prodDetTable') role='presentation'>,\n",
       " <Element 'table' id='productDetails_feedback_sections' class=('a-keyvalue', 'prodDetTable') role='presentation'>,\n",
       " <Element 'table' id='histogramTable' class=('a-normal', 'a-spacing-none') role='presentation'>,\n",
       " <Element 'table' id='histogramTable' class=('a-normal', 'a-align-center', 'a-spacing-base')>,\n",
       " <Element 'table' class=('navFooterMoreOnAmazon',) cellspacing='0'>]"
      ]
     },
     "execution_count": 82,
     "metadata": {},
     "output_type": "execute_result"
    }
   ],
   "source": [
    "tables = extract_tables(html_obj)\n",
    "tables"
   ]
  },
  {
   "cell_type": "code",
   "execution_count": 93,
   "id": "79fb7998",
   "metadata": {},
   "outputs": [],
   "source": [
    "def extract_element_text(html_object, element_requisites):\n",
    "    element = html_object.find(element_requisites, first=True)\n",
    "    if not element:\n",
    "        return \"\"\n",
    "    return element.text"
   ]
  },
  {
   "cell_type": "code",
   "execution_count": 94,
   "id": "182e4cce",
   "metadata": {},
   "outputs": [
    {
     "data": {
      "text/plain": [
       "'$289.95$289.95'"
      ]
     },
     "execution_count": 94,
     "metadata": {},
     "output_type": "execute_result"
    }
   ],
   "source": [
    "price_str = extract_element_text(html_obj, \".a-price\")\n",
    "price_str"
   ]
  },
  {
   "cell_type": "code",
   "execution_count": 95,
   "id": "85471754",
   "metadata": {},
   "outputs": [
    {
     "data": {
      "text/plain": [
       "'Vitamix E310 Explorian Blender, Professional-Grade, 48 oz. Container, Slate'"
      ]
     },
     "execution_count": 95,
     "metadata": {},
     "output_type": "execute_result"
    }
   ],
   "source": [
    "title_str = extract_element_text(html_obj, \"#productTitle\")\n",
    "title_str"
   ]
  },
  {
   "cell_type": "code",
   "execution_count": null,
   "id": "1b400c21",
   "metadata": {},
   "outputs": [],
   "source": []
  }
 ],
 "metadata": {
  "kernelspec": {
   "display_name": "Python 3 (ipykernel)",
   "language": "python",
   "name": "python3"
  },
  "language_info": {
   "codemirror_mode": {
    "name": "ipython",
    "version": 3
   },
   "file_extension": ".py",
   "mimetype": "text/x-python",
   "name": "python",
   "nbconvert_exporter": "python",
   "pygments_lexer": "ipython3",
   "version": "3.10.0"
  }
 },
 "nbformat": 4,
 "nbformat_minor": 5
}
