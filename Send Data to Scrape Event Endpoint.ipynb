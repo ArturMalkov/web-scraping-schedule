{
 "cells": [
  {
   "cell_type": "code",
   "execution_count": 1,
   "id": "3350e939",
   "metadata": {},
   "outputs": [],
   "source": [
    "import requests"
   ]
  },
  {
   "cell_type": "code",
   "execution_count": 2,
   "id": "614d1722",
   "metadata": {},
   "outputs": [],
   "source": [
    "endpoint = \"http://127.0.0.1:8000/events/scrape\""
   ]
  },
  {
   "cell_type": "code",
   "execution_count": 10,
   "id": "7092b480",
   "metadata": {},
   "outputs": [
    {
     "name": "stdout",
     "output_type": "stream",
     "text": [
      "{'asin': 'http_test', 'title': 'abc123', 'price_str': '$12.99'}\n"
     ]
    }
   ],
   "source": [
    "request = requests.post(endpoint, json={\"asin\": \"http_test\", \"title\": \"abc123\", \"price_str\": \"$12.99\"})\n",
    "print(request.json())"
   ]
  },
  {
   "cell_type": "code",
   "execution_count": 13,
   "id": "c2c6c6eb",
   "metadata": {},
   "outputs": [],
   "source": [
    "endpoint = \"http://127.0.0.1:8000/products/http_test/events\""
   ]
  },
  {
   "cell_type": "code",
   "execution_count": 14,
   "id": "362eec0e",
   "metadata": {},
   "outputs": [
    {
     "name": "stdout",
     "output_type": "stream",
     "text": [
      "[{'asin': 'http_test', 'title': 'abc123', 'price_str': '$12.99', 'created': '2022-12-11T09:22:04.422501'}, {'asin': 'http_test', 'title': 'abc123', 'price_str': '$12.99', 'created': '2022-12-11T09:22:21.376746'}, {'asin': 'http_test', 'title': 'abc123', 'price_str': '$12.99', 'created': '2022-12-11T09:22:22.464617'}, {'asin': 'http_test', 'title': 'abc123', 'price_str': '$12.99', 'created': '2022-12-11T09:22:18.930009'}, {'asin': 'http_test', 'title': 'abc123', 'price_str': '$12.99', 'created': '2022-12-11T09:22:25.341278'}]\n"
     ]
    }
   ],
   "source": [
    "request = requests.get(endpoint)\n",
    "print(request.json())"
   ]
  },
  {
   "cell_type": "code",
   "execution_count": null,
   "id": "e11d49c7",
   "metadata": {},
   "outputs": [],
   "source": []
  }
 ],
 "metadata": {
  "kernelspec": {
   "display_name": "Python 3 (ipykernel)",
   "language": "python",
   "name": "python3"
  },
  "language_info": {
   "codemirror_mode": {
    "name": "ipython",
    "version": 3
   },
   "file_extension": ".py",
   "mimetype": "text/x-python",
   "name": "python",
   "nbconvert_exporter": "python",
   "pygments_lexer": "ipython3",
   "version": "3.10.0"
  }
 },
 "nbformat": 4,
 "nbformat_minor": 5
}
